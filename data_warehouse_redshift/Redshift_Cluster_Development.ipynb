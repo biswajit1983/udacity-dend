{
 "cells": [
  {
   "cell_type": "markdown",
   "metadata": {},
   "source": [
    "# Redshift Cluster using the AWS python SDK: Infrastructure-as-code"
   ]
  },
  {
   "cell_type": "code",
   "execution_count": 79,
   "metadata": {},
   "outputs": [],
   "source": [
    "import os\n",
    "import pandas as pd\n",
    "import boto3\n",
    "import json\n",
    "import matplotlib.pyplot as plt\n",
    "%matplotlib inline"
   ]
  },
  {
   "cell_type": "markdown",
   "metadata": {},
   "source": [
    "## Establish Datawarehouse Parameters"
   ]
  },
  {
   "cell_type": "code",
   "execution_count": 2,
   "metadata": {},
   "outputs": [
    {
     "data": {
      "text/html": [
       "<div>\n",
       "<style scoped>\n",
       "    .dataframe tbody tr th:only-of-type {\n",
       "        vertical-align: middle;\n",
       "    }\n",
       "\n",
       "    .dataframe tbody tr th {\n",
       "        vertical-align: top;\n",
       "    }\n",
       "\n",
       "    .dataframe thead th {\n",
       "        text-align: right;\n",
       "    }\n",
       "</style>\n",
       "<table border=\"1\" class=\"dataframe\">\n",
       "  <thead>\n",
       "    <tr style=\"text-align: right;\">\n",
       "      <th></th>\n",
       "      <th>Param</th>\n",
       "      <th>Value</th>\n",
       "    </tr>\n",
       "  </thead>\n",
       "  <tbody>\n",
       "    <tr>\n",
       "      <th>0</th>\n",
       "      <td>SPARKIFY_DWH_CLUSTER_TYPE</td>\n",
       "      <td>multi-node</td>\n",
       "    </tr>\n",
       "    <tr>\n",
       "      <th>1</th>\n",
       "      <td>SPARKIFY_DWH_NUM_NODES</td>\n",
       "      <td>4</td>\n",
       "    </tr>\n",
       "    <tr>\n",
       "      <th>2</th>\n",
       "      <td>SPARKIFY_DWH_NODE_TYPE</td>\n",
       "      <td>dc2.large</td>\n",
       "    </tr>\n",
       "    <tr>\n",
       "      <th>3</th>\n",
       "      <td>SPARKIFY_DWH_CLUSTER</td>\n",
       "      <td>****</td>\n",
       "    </tr>\n",
       "    <tr>\n",
       "      <th>4</th>\n",
       "      <td>SPARKIFY_DB_NAME</td>\n",
       "      <td>****</td>\n",
       "    </tr>\n",
       "    <tr>\n",
       "      <th>5</th>\n",
       "      <td>SPARKIFY_DB_USER</td>\n",
       "      <td>awsuser</td>\n",
       "    </tr>\n",
       "    <tr>\n",
       "      <th>6</th>\n",
       "      <td>SPARKIFY_DB_PORT</td>\n",
       "      <td>5439</td>\n",
       "    </tr>\n",
       "    <tr>\n",
       "      <th>7</th>\n",
       "      <td>SPARKIFY_ARN</td>\n",
       "      <td>****</td>\n",
       "    </tr>\n",
       "  </tbody>\n",
       "</table>\n",
       "</div>"
      ],
      "text/plain": [
       "                       Param       Value\n",
       "0  SPARKIFY_DWH_CLUSTER_TYPE  multi-node\n",
       "1     SPARKIFY_DWH_NUM_NODES           4\n",
       "2     SPARKIFY_DWH_NODE_TYPE   dc2.large\n",
       "3       SPARKIFY_DWH_CLUSTER        ****\n",
       "4           SPARKIFY_DB_NAME        ****\n",
       "5           SPARKIFY_DB_USER     awsuser\n",
       "6           SPARKIFY_DB_PORT        5439\n",
       "7               SPARKIFY_ARN        ****"
      ]
     },
     "execution_count": 2,
     "metadata": {},
     "output_type": "execute_result"
    }
   ],
   "source": [
    "SPARKIFY_DWH_CLUSTER_TYPE=os.environ.get('SPARKIFY_DWH_CLUSTER_TYPE')\n",
    "SPARKIFY_DWH_NUM_NODES=os.environ.get('SPARKIFY_DWH_NUM_NODES')\n",
    "SPARKIFY_DWH_NODE_TYPE=os.environ.get('SPARKIFY_DWH_NODE_TYPE')\n",
    "\n",
    "SPARKIFY_DWH_CLUSTER=os.environ.get('SPARKIFY_DWH_CLUSTER')\n",
    "SPARKIFY_DB_NAME=os.environ.get('SPARKIFY_DB_NAME')\n",
    "SPARKIFY_DB_USER=os.environ.get('SPARKIFY_DB_USER')\n",
    "SPARKIFY_DB_PASSWORD=os.environ.get('SPARKIFY_DB_PASSWORD')\n",
    "SPARKIFY_DB_PORT=os.environ.get('SPARKIFY_DB_PORT')\n",
    "\n",
    "SPARKIFY_ARN=os.environ.get('SPARKIFY_ARN')\n",
    "\n",
    "SPARKIFY_AWS_ACCESS_KEY_ID=os.environ.get('SPARKIFY_AWS_ACCESS_KEY_ID')\n",
    "SPARKIFY_AWS_SECRET_ACCESS_KEY=os.environ.get('SPARKIFY_AWS_SECRET_ACCESS_KEY')\n",
    "\n",
    "pd.DataFrame({\"Param\":\n",
    "                  [\"SPARKIFY_DWH_CLUSTER_TYPE\", \"SPARKIFY_DWH_NUM_NODES\", \"SPARKIFY_DWH_NODE_TYPE\", \n",
    "                   \"SPARKIFY_DWH_CLUSTER\", \"SPARKIFY_DB_NAME\", \"SPARKIFY_DB_USER\", \n",
    "                   \"SPARKIFY_DB_PORT\", \"SPARKIFY_ARN\"],\n",
    "              \"Value\":\n",
    "                  [SPARKIFY_DWH_CLUSTER_TYPE, SPARKIFY_DWH_NUM_NODES, SPARKIFY_DWH_NODE_TYPE, \n",
    "                   '****', '****', SPARKIFY_DB_USER, \n",
    "                   SPARKIFY_DB_PORT, '****']\n",
    "             })"
   ]
  },
  {
   "cell_type": "markdown",
   "metadata": {},
   "source": [
    "# Create clients for IAM, EC2, S3 and Redshift"
   ]
  },
  {
   "cell_type": "code",
   "execution_count": 33,
   "metadata": {},
   "outputs": [],
   "source": [
    "import boto3\n",
    "\n",
    "ec2 = boto3.resource('ec2',\n",
    "                       region_name=\"us-west-2\",\n",
    "                       aws_access_key_id=SPARKIFY_AWS_ACCESS_KEY_ID,\n",
    "                       aws_secret_access_key=SPARKIFY_AWS_SECRET_ACCESS_KEY\n",
    "                    )\n",
    "\n",
    "s3 = boto3.resource('s3',\n",
    "                       region_name=\"us-west-2\",\n",
    "                       aws_access_key_id=SPARKIFY_AWS_ACCESS_KEY_ID,\n",
    "                       aws_secret_access_key=SPARKIFY_AWS_SECRET_ACCESS_KEY\n",
    "                   )\n",
    "\n",
    "iam = boto3.client('iam',aws_access_key_id=SPARKIFY_AWS_ACCESS_KEY_ID,\n",
    "                     aws_secret_access_key=SPARKIFY_AWS_SECRET_ACCESS_KEY,\n",
    "                     region_name='us-west-2'\n",
    "                  )\n",
    "\n",
    "redshift = boto3.client('redshift',\n",
    "                       region_name=\"us-west-2\",\n",
    "                       aws_access_key_id=SPARKIFY_AWS_ACCESS_KEY_ID,\n",
    "                       aws_secret_access_key=SPARKIFY_AWS_SECRET_ACCESS_KEY\n",
    "                       )"
   ]
  },
  {
   "cell_type": "markdown",
   "metadata": {},
   "source": [
    "# Investigate udacity-dend s3 bucket"
   ]
  },
  {
   "cell_type": "code",
   "execution_count": 4,
   "metadata": {},
   "outputs": [
    {
     "name": "stdout",
     "output_type": "stream",
     "text": [
      "('Number of files in log-data:', 30)\n"
     ]
    },
    {
     "data": {
      "text/plain": [
       "[u'log-data/2018/11/2018-11-01-events.json',\n",
       " u'log-data/2018/11/2018-11-02-events.json',\n",
       " u'log-data/2018/11/2018-11-03-events.json',\n",
       " u'log-data/2018/11/2018-11-04-events.json']"
      ]
     },
     "execution_count": 4,
     "metadata": {},
     "output_type": "execute_result"
    }
   ],
   "source": [
    "bucket=s3.Bucket('udacity-dend')\n",
    "log_data_files = [o.key for o in bucket.objects.filter(Prefix='log-data')]\n",
    "print (\"Number of files in log-data:\",len(log_data_files)-1)\n",
    "log_data_files[1:5]"
   ]
  },
  {
   "cell_type": "code",
   "execution_count": 5,
   "metadata": {},
   "outputs": [
    {
     "name": "stdout",
     "output_type": "stream",
     "text": [
      "('Number of files in song-data in /A/A:', 603)\n",
      "26 * 26 * 600 = 405600 Files in song-data\n"
     ]
    },
    {
     "data": {
      "text/plain": [
       "[u'song-data/A/A/A/TRAAAAV128F421A322.json',\n",
       " u'song-data/A/A/A/TRAAABD128F429CF47.json',\n",
       " u'song-data/A/A/A/TRAAACN128F9355673.json',\n",
       " u'song-data/A/A/A/TRAAAEA128F935A30D.json']"
      ]
     },
     "execution_count": 5,
     "metadata": {},
     "output_type": "execute_result"
    }
   ],
   "source": [
    "song_data_files = [o.key for o in bucket.objects.filter(Prefix='song-data/A/A')]\n",
    "print (\"Number of files in song-data in /A/A:\",len(song_data_files)-1)\n",
    "print (\"26 * 26 * 600 = \"+ str(26*26*600) + \" Files in song-data\")\n",
    "song_data_files[1:5]"
   ]
  },
  {
   "cell_type": "markdown",
   "metadata": {
    "toc-hr-collapsed": true
   },
   "source": [
    "# STEP1: IAM ROLE\n",
    "- Create an IAM Role that makes Redshift able to access S3 bucket (ReadOnly)"
   ]
  },
  {
   "cell_type": "code",
   "execution_count": 37,
   "metadata": {},
   "outputs": [],
   "source": [
    "from botocore.exceptions import ClientError\n",
    "\n",
    "IAM_ROLE_NAME=SPARKIFY_ARN.split('/')[-1]\n",
    "\n",
    "#1.1 Create the role, \n",
    "try:\n",
    "    print(\"1.1 Creating a new IAM Role\") \n",
    "    dwhRole = iam.create_role(\n",
    "        Path='/',\n",
    "        RoleName=IAM_ROLE_NAME,\n",
    "        Description = \"Allows Redshift clusters to call AWS services on your behalf.\",\n",
    "        AssumeRolePolicyDocument=json.dumps(\n",
    "            {'Statement': [{'Action': 'sts:AssumeRole',\n",
    "               'Effect': 'Allow',\n",
    "               'Principal': {'Service': 'redshift.amazonaws.com'}}],\n",
    "             'Version': '2012-10-17'})\n",
    "    )    \n",
    "except Exception as e:\n",
    "    print(e)\n",
    "    \n",
    "    \n",
    "print(\"1.2 Attaching Policy\")\n",
    "\n",
    "iam.attach_role_policy(RoleName=IAM_ROLE_NAME,\n",
    "                       PolicyArn=\"arn:aws:iam::aws:policy/AmazonS3ReadOnlyAccess\"\n",
    "                      )['ResponseMetadata']['HTTPStatusCode']\n",
    "\n",
    "print(\"1.3 Get the IAM role ARN\")\n",
    "roleArn = iam.get_role(RoleName=IAM_ROLE_NAME)['Role']['Arn']\n",
    "\n",
    "print(roleArn)"
   ]
  },
  {
   "cell_type": "markdown",
   "metadata": {},
   "source": [
    "# STEP2:  Redshift Cluster\n",
    "\n",
    "- Create a RedShift Cluster\n",
    "- For complete arguments to `create_cluster`, see [docs](https://boto3.amazonaws.com/v1/documentation/api/latest/reference/services/redshift.html#Redshift.Client.create_cluster)"
   ]
  },
  {
   "cell_type": "code",
   "execution_count": 26,
   "metadata": {},
   "outputs": [
    {
     "name": "stdout",
     "output_type": "stream",
     "text": [
      "Confirming READONLY Privileges\n"
     ]
    }
   ],
   "source": [
    "try:\n",
    "    response = redshift.create_cluster(        \n",
    "        #Cluster Specs\n",
    "        ClusterType=SPARKIFY_DWH_CLUSTER_TYPE,\n",
    "        NodeType=SPARKIFY_DWH_NODE_TYPE,\n",
    "        NumberOfNodes=int(SPARKIFY_DWH_NUM_NODES),\n",
    "\n",
    "        #Identifiers & Credentials\n",
    "        DBName=SPARKIFY_DB_NAME,\n",
    "        ClusterIdentifier=SPARKIFY_DWH_CLUSTER,\n",
    "        MasterUsername=SPARKIFY_DB_USER,\n",
    "        MasterUserPassword=SPARKIFY_DB_PASSWORD,\n",
    "        \n",
    "        #Roles (for s3 access)\n",
    "        IamRoles=[SPARKIFY_ARN]  \n",
    "    )\n",
    "except Exception as e:\n",
    "#     print(e)\n",
    "    print('Confirming READONLY Privileges')"
   ]
  },
  {
   "cell_type": "markdown",
   "metadata": {
    "toc-hr-collapsed": true
   },
   "source": [
    "## Check Cluster Status, Ensure Available"
   ]
  },
  {
   "cell_type": "code",
   "execution_count": 6,
   "metadata": {},
   "outputs": [
    {
     "data": {
      "text/html": [
       "<div>\n",
       "<style scoped>\n",
       "    .dataframe tbody tr th:only-of-type {\n",
       "        vertical-align: middle;\n",
       "    }\n",
       "\n",
       "    .dataframe tbody tr th {\n",
       "        vertical-align: top;\n",
       "    }\n",
       "\n",
       "    .dataframe thead th {\n",
       "        text-align: right;\n",
       "    }\n",
       "</style>\n",
       "<table border=\"1\" class=\"dataframe\">\n",
       "  <thead>\n",
       "    <tr style=\"text-align: right;\">\n",
       "      <th></th>\n",
       "      <th>Key</th>\n",
       "      <th>Value</th>\n",
       "    </tr>\n",
       "  </thead>\n",
       "  <tbody>\n",
       "    <tr>\n",
       "      <th>0</th>\n",
       "      <td>ClusterIdentifier</td>\n",
       "      <td>sparkify-redshift-cluster</td>\n",
       "    </tr>\n",
       "    <tr>\n",
       "      <th>1</th>\n",
       "      <td>NodeType</td>\n",
       "      <td>dc2.large</td>\n",
       "    </tr>\n",
       "    <tr>\n",
       "      <th>2</th>\n",
       "      <td>ClusterStatus</td>\n",
       "      <td>available</td>\n",
       "    </tr>\n",
       "    <tr>\n",
       "      <th>3</th>\n",
       "      <td>MasterUsername</td>\n",
       "      <td>****</td>\n",
       "    </tr>\n",
       "    <tr>\n",
       "      <th>4</th>\n",
       "      <td>DBName</td>\n",
       "      <td>****</td>\n",
       "    </tr>\n",
       "    <tr>\n",
       "      <th>5</th>\n",
       "      <td>Endpoint</td>\n",
       "      <td>****</td>\n",
       "    </tr>\n",
       "    <tr>\n",
       "      <th>6</th>\n",
       "      <td>NumberOfNodes</td>\n",
       "      <td>4</td>\n",
       "    </tr>\n",
       "    <tr>\n",
       "      <th>7</th>\n",
       "      <td>VpcId</td>\n",
       "      <td>****</td>\n",
       "    </tr>\n",
       "  </tbody>\n",
       "</table>\n",
       "</div>"
      ],
      "text/plain": [
       "                 Key                      Value\n",
       "0  ClusterIdentifier  sparkify-redshift-cluster\n",
       "1           NodeType                  dc2.large\n",
       "2      ClusterStatus                  available\n",
       "3     MasterUsername                       ****\n",
       "4             DBName                       ****\n",
       "5           Endpoint                       ****\n",
       "6      NumberOfNodes                          4\n",
       "7              VpcId                       ****"
      ]
     },
     "execution_count": 6,
     "metadata": {},
     "output_type": "execute_result"
    }
   ],
   "source": [
    "cluster_properties = redshift.describe_clusters(ClusterIdentifier=SPARKIFY_DWH_CLUSTER)['Clusters'][0]\n",
    "cols = [\"ClusterIdentifier\", \"NodeType\", \"ClusterStatus\", \n",
    "        \"MasterUsername\", \"DBName\", \"Endpoint\", \"NumberOfNodes\", 'VpcId']\n",
    "\n",
    "pd.DataFrame([(col,cluster_properties[col]) \n",
    "              if col not in ['MasterUsername', 'DBName', 'Endpoint', 'VpcId']\n",
    "              else (col,'****') for col in cols],\n",
    "             columns=['Key', 'Value'])"
   ]
  },
  {
   "cell_type": "code",
   "execution_count": 7,
   "metadata": {},
   "outputs": [
    {
     "name": "stdout",
     "output_type": "stream",
     "text": [
      "DWH_ENDPOINT :: ****\n",
      "DWH_ROLE_ARN :: ****\n"
     ]
    }
   ],
   "source": [
    "DB_ENDPOINT = cluster_properties['Endpoint']['Address']\n",
    "DB_ROLE_ARN = cluster_properties['IamRoles'][0]['IamRoleArn']\n",
    "print(\"DWH_ENDPOINT :: \"+'****')\n",
    "print(\"DWH_ROLE_ARN :: \"+'****')"
   ]
  },
  {
   "cell_type": "markdown",
   "metadata": {},
   "source": [
    "# Allow Access To Cluster Endpoint By Opening Incoming TCP Port"
   ]
  },
  {
   "cell_type": "code",
   "execution_count": 118,
   "metadata": {},
   "outputs": [],
   "source": [
    "try:\n",
    "    vpc = ec2.Vpc(id=cluster_properties['VpcId'])\n",
    "    defaultSg = list(vpc.security_groups.all())[0]\n",
    "    print(defaultSg)\n",
    "    defaultSg.authorize_ingress(\n",
    "        GroupName=defaultSg.group_name,\n",
    "        CidrIp='0.0.0.0/0',\n",
    "        IpProtocol='TCP',\n",
    "        FromPort=int(SPARKIFY_DB_PORT),\n",
    "        ToPort=int(SPARKIFY_DB_PORT)\n",
    "    )\n",
    "except Exception as e:\n",
    "    print(e)"
   ]
  },
  {
   "cell_type": "markdown",
   "metadata": {},
   "source": [
    "# Check Connection To Cluster"
   ]
  },
  {
   "cell_type": "code",
   "execution_count": 9,
   "metadata": {},
   "outputs": [],
   "source": [
    "%load_ext sql"
   ]
  },
  {
   "cell_type": "code",
   "execution_count": 17,
   "metadata": {},
   "outputs": [],
   "source": [
    "conn_string=\"postgresql://{}:{}@{}:{}/{}\".format(SPARKIFY_DB_USER, SPARKIFY_DB_PASSWORD, \n",
    "                                                 DB_ENDPOINT, SPARKIFY_DB_PORT, SPARKIFY_DB_NAME)\n",
    "# %sql $conn_string"
   ]
  },
  {
   "cell_type": "markdown",
   "metadata": {},
   "source": [
    "## Star Schema"
   ]
  },
  {
   "cell_type": "markdown",
   "metadata": {},
   "source": [
    "<img src=\"./images/star_schema.png\" width=\"50%\"/>"
   ]
  },
  {
   "cell_type": "markdown",
   "metadata": {},
   "source": [
    "## CUBE Queries"
   ]
  },
  {
   "cell_type": "code",
   "execution_count": 117,
   "metadata": {},
   "outputs": [],
   "source": [
    "%%sql results <<\n",
    "SELECT u.gender, count(u.gender)\n",
    "FROM users as u\n",
    "JOIN songplays as sp ON (sp.user_id = u.user_id)\n",
    "JOIN artists as a ON (a.artist_id = sp.artist_id)\n",
    "WHERE a.artist_name = 'Muse'\n",
    "group by u.gender"
   ]
  },
  {
   "cell_type": "code",
   "execution_count": 116,
   "metadata": {},
   "outputs": [
    {
     "data": {
      "text/html": [
       "<table>\n",
       "    <tr>\n",
       "        <th>gender</th>\n",
       "        <th>count</th>\n",
       "    </tr>\n",
       "    <tr>\n",
       "        <td>F</td>\n",
       "        <td>8</td>\n",
       "    </tr>\n",
       "    <tr>\n",
       "        <td>M</td>\n",
       "        <td>2</td>\n",
       "    </tr>\n",
       "</table>"
      ],
      "text/plain": [
       "[(u'F', 8L), (u'M', 2L)]"
      ]
     },
     "execution_count": 116,
     "metadata": {},
     "output_type": "execute_result"
    }
   ],
   "source": [
    "results"
   ]
  },
  {
   "cell_type": "code",
   "execution_count": 110,
   "metadata": {},
   "outputs": [],
   "source": [
    "%%sql results << \n",
    "SELECT u.gender, count(u.gender)\n",
    "FROM users as u\n",
    "group by u.gender"
   ]
  },
  {
   "cell_type": "code",
   "execution_count": 111,
   "metadata": {},
   "outputs": [
    {
     "data": {
      "text/html": [
       "<table>\n",
       "    <tr>\n",
       "        <th>gender</th>\n",
       "        <th>count</th>\n",
       "    </tr>\n",
       "    <tr>\n",
       "        <td>M</td>\n",
       "        <td>45</td>\n",
       "    </tr>\n",
       "    <tr>\n",
       "        <td>F</td>\n",
       "        <td>60</td>\n",
       "    </tr>\n",
       "</table>"
      ],
      "text/plain": [
       "[(u'M', 45L), (u'F', 60L)]"
      ]
     },
     "execution_count": 111,
     "metadata": {},
     "output_type": "execute_result"
    }
   ],
   "source": [
    "results"
   ]
  },
  {
   "cell_type": "code",
   "execution_count": 108,
   "metadata": {},
   "outputs": [],
   "source": [
    "%%sql results << \n",
    "SELECT u.gender, sp.level, count(sp.level) as level_count\n",
    "FROM songplays as sp\n",
    "JOIN users as u ON (u.user_id = sp.user_id)\n",
    "JOIN artists as a ON (a.artist_id = sp.artist_id)\n",
    "WHERE a.artist_name = 'Muse'\n",
    "group by u.gender, sp.level\n",
    "order by level_count desc"
   ]
  },
  {
   "cell_type": "code",
   "execution_count": 107,
   "metadata": {},
   "outputs": [
    {
     "data": {
      "text/html": [
       "<table>\n",
       "    <tr>\n",
       "        <th>gender</th>\n",
       "        <th>level</th>\n",
       "        <th>level_count</th>\n",
       "    </tr>\n",
       "    <tr>\n",
       "        <td>F</td>\n",
       "        <td>paid</td>\n",
       "        <td>8</td>\n",
       "    </tr>\n",
       "    <tr>\n",
       "        <td>M</td>\n",
       "        <td>paid</td>\n",
       "        <td>2</td>\n",
       "    </tr>\n",
       "</table>"
      ],
      "text/plain": [
       "[(u'F', u'paid', 8L), (u'M', u'paid', 2L)]"
      ]
     },
     "execution_count": 107,
     "metadata": {},
     "output_type": "execute_result"
    }
   ],
   "source": [
    "results"
   ]
  },
  {
   "cell_type": "code",
   "execution_count": 105,
   "metadata": {},
   "outputs": [],
   "source": [
    "%%sql results << \n",
    "SELECT a.artist_name, count(a.artist_name) as artists_split\n",
    "FROM songplays as sp \n",
    "JOIN songs as s ON (s.song_id = sp.song_id)\n",
    "JOIN artists as a ON (a.artist_id = sp.artist_id)\n",
    "group by a.artist_name\n",
    "order by artists_split desc\n",
    "limit 20;"
   ]
  },
  {
   "cell_type": "code",
   "execution_count": 101,
   "metadata": {},
   "outputs": [
    {
     "data": {
      "image/png": "[encoded data removed]",
      "text/plain": [
       "<Figure size 432x288 with 1 Axes>"
      ]
     },
     "metadata": {},
     "output_type": "display_data"
    }
   ],
   "source": [
    "results.pie();"
   ]
  },
  {
   "cell_type": "markdown",
   "metadata": {},
   "source": [
    "# DELETE CLUSTER AND REMOVE IAM ROLE\n",
    "## <font color='red'>Caution When Running These Cells"
   ]
  },
  {
   "cell_type": "code",
   "execution_count": 18,
   "metadata": {},
   "outputs": [],
   "source": [
    "# redshift.delete_cluster(ClusterIdentifier=SPARKIFY_DWH_CLUSTER,  SkipFinalClusterSnapshot=True)"
   ]
  },
  {
   "cell_type": "code",
   "execution_count": 19,
   "metadata": {},
   "outputs": [],
   "source": [
    "# cluster_properties = redshift.describe_clusters(ClusterIdentifier=SPARKIFY_DWH_CLUSTER)['Clusters'][0]\n",
    "# cols = [\"ClusterIdentifier\", \"NodeType\", \"ClusterStatus\", \n",
    "#         \"MasterUsername\", \"DBName\", \"Endpoint\", \"NumberOfNodes\", 'VpcId']\n",
    "\n",
    "# pd.DataFrame([(col,cluster_properties[col]) \n",
    "#               if col not in ['MasterUsername', 'DBName', 'Endpoint', 'VpcId']\n",
    "#               else (col,'****') for col in cols],\n",
    "#              columns=['Key', 'Value'])"
   ]
  },
  {
   "cell_type": "code",
   "execution_count": 20,
   "metadata": {},
   "outputs": [],
   "source": [
    "# iam.detach_role_policy(RoleName=SPARKIFY_ARN, PolicyArn=\"arn:aws:iam::aws:policy/AmazonS3ReadOnlyAccess\")\n",
    "# iam.delete_role(RoleName=SPARKIFY_ARN)"
   ]
  }
 ],
 "metadata": {
  "kernelspec": {
   "display_name": "Python 2",
   "language": "python",
   "name": "python2"
  },
  "language_info": {
   "codemirror_mode": {
    "name": "ipython",
    "version": 2
   },
   "file_extension": ".py",
   "mimetype": "text/x-python",
   "name": "python",
   "nbconvert_exporter": "python",
   "pygments_lexer": "ipython2",
   "version": "2.7.14"
  },
  "toc": {
   "base_numbering": 1,
   "nav_menu": {},
   "number_sections": true,
   "sideBar": true,
   "skip_h1_title": false,
   "title_cell": "Table of Contents",
   "title_sidebar": "Contents",
   "toc_cell": false,
   "toc_position": {},
   "toc_section_display": true,
   "toc_window_display": false
  },
  "toc-autonumbering": false,
  "toc-showcode": false,
  "toc-showmarkdowntxt": false,
  "toc-showtags": false
 },
 "nbformat": 4,
 "nbformat_minor": 2
}
